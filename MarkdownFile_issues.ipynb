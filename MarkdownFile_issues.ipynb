{
  "nbformat": 4,
  "nbformat_minor": 0,
  "metadata": {
    "colab": {
      "provenance": []
    },
    "kernelspec": {
      "name": "python3",
      "display_name": "Python 3"
    },
    "language_info": {
      "name": "python"
    }
  },
  "cells": [
    {
      "cell_type": "markdown",
      "source": [
        "# Issues\n",
        "\n",
        "\n"
      ],
      "metadata": {
        "id": "6NyX6FpmDAJd"
      }
    },
    {
      "cell_type": "markdown",
      "source": [
        "**Issue 1: Downgrading Tensorflow Version**\n",
        "- **Description:** The TensorFlow version was downgraded from 2.16.0 to 2.14.0. This was necessary because HLS4ML, a tool used in the project, had not been updated to support TensorFlow 2.16.0 at the backend. Therefore, to ensure compatibility and proper functioning of HLS4ML, the decision was made to revert to TensorFlow 2.14.0."
      ],
      "metadata": {
        "id": "a5I7NSvXHdRG"
      }
    },
    {
      "cell_type": "markdown",
      "source": [
        "**Issue 2: Model Change from ResNet50 to IMDB Sentiment Analysis**\n",
        "- **Description:** The decision was made to switch from using the ResNet50 model to IMDB Sentiment Analysis. This change was prompted by concerns regarding the size and complexity of the previous model. The ResNet50 model was quite large, approximately 103 MB, and after converting it to C code using Keras2C, it resulted in around 5.2 million lines of code. This large codebase may have been cumbersome to manage and deploy efficiently.\n",
        "- **Resolution:** To address these concerns, the IMDB Sentiment Analysis model was chosen as an alternative. This model is likely to be smaller and less complex compared to ResNet50, which can lead to easier management and deployment. Additionally, it may offer better performance for the specific task of sentiment analysis on the IMDB dataset."
      ],
      "metadata": {
        "id": "yudLvP2OHvAC"
      }
    },
    {
      "cell_type": "markdown",
      "source": [
        "**Issue3: System Crash with No Indication to Use Minimum Resources**\n",
        "- **Description:** The system experienced a crash without any prior indication or mechanism in place to use minimum resources. This lack of resource optimization led to the crash, potentially due to resource exhaustion or inefficient resource allocation.\n",
        "- **Resolution:** To mitigate future crashes and improve resource utilization, the model strategy was adjusted to prioritize resource usage. By setting the model strategy to 'resource', the system aims to optimize resource allocation and prevent crashes caused by resource constraints."
      ],
      "metadata": {
        "id": "QbGvRD8eGqmB"
      }
    },
    {
      "cell_type": "markdown",
      "source": [
        "**Issue 4: System Crash and SIGSEV Error**\n",
        "- **Description:** The system crashed unexpectedly, resulting in a SIGSEV error. Upon investigation, it was discovered that the crash was caused by an issue with array handling. To address this, all arrays were traced back, and variables were made global to ensure proper memory management.\n",
        "- **Resolution:** By making variables global, the array handling issue was resolved, preventing further crashes."
      ],
      "metadata": {
        "id": "M19R3OBmFVWd"
      }
    },
    {
      "cell_type": "markdown",
      "source": [
        "**Issue 5: Error during Complete Unroll**\n",
        "- **Description:** An error occurred during the Complete Unroll process, resulting in the message \"Stopped Unrolling loops because it is taking long run-time.\"\n",
        "- **Resolution:** The cause of this error needs further investigation to identify and address the bottleneck causing the long runtime during loop unrolling."
      ],
      "metadata": {
        "id": "m21_hRizC0Zt"
      }
    },
    {
      "cell_type": "markdown",
      "source": [
        "**Issue 6: Array Partitioning Error**\n",
        "- **Description:** While partitioning the 'MultLoop' array in dimension 1, an informational message was generated. However, an error occurred when partitioning the 'multi.V' array, indicating that it exceeded a threshold (4096), potentially leading to long run-time. This resulted in a pre-synthesis failure.\n",
        "- **Resolution:** Adjustments need to be made to the array partitioning configurations to ensure that the threshold is not exceeded, preventing pre-synthesis failures."
      ],
      "metadata": {
        "id": "6HMC-bmyC9Fo"
      }
    },
    {
      "cell_type": "markdown",
      "source": [
        "**Issue 7: Configurations that Didn't Work:**\n",
        "- **<16,6>:** Bit width increased error by 160,000 bits.\n",
        "- **<8,2>:** Bit width increased error by 80,000 bits.\n",
        "- **<4,1>:** Not allowed, resetting to default."
      ],
      "metadata": {
        "id": "JHKdQD1SGKgF"
      }
    }
  ]
}